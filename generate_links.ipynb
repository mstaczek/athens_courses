{
 "cells": [
  {
   "cell_type": "code",
   "execution_count": 5,
   "metadata": {},
   "outputs": [],
   "source": [
    "with open('links_all.txt', 'w') as f:\n",
    "    for i in range(1,2577+1):\n",
    "        f.write('https://register.athensnetwork.eu/courses/course-show/'+str(i)+'/\\n')"
   ]
  }
 ],
 "metadata": {
  "interpreter": {
   "hash": "b0f2e8d3db6d86e133334ffaac623195e3e52b2120208b7b59734b9016282c69"
  },
  "kernelspec": {
   "display_name": "Python 3.9.7 ('athens_to_csv')",
   "language": "python",
   "name": "python3"
  },
  "language_info": {
   "codemirror_mode": {
    "name": "ipython",
    "version": 3
   },
   "file_extension": ".py",
   "mimetype": "text/x-python",
   "name": "python",
   "nbconvert_exporter": "python",
   "pygments_lexer": "ipython3",
   "version": "3.9.7"
  },
  "orig_nbformat": 4
 },
 "nbformat": 4,
 "nbformat_minor": 2
}
